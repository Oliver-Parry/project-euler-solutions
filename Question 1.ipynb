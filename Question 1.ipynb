{
 "cells": [
  {
   "cell_type": "markdown",
   "id": "85dcb9fd-1567-4c01-8e80-b8c61040418b",
   "metadata": {},
   "source": [
    "____\n",
    "## Multiples of 3 or 5\n",
    "*[Question 1]*\n",
    "\n",
    "\n",
    "If we list all the natural numbers below $10$ that are multiples of $3$ or $5$, we get $3, 5, 6$ and $9$. The sum of these multiples is $23$.\n",
    "<br>\n",
    "Find the sum of all the multiples of $3$ or $5$ below $1000$.\n",
    "____"
   ]
  },
  {
   "cell_type": "markdown",
   "id": "fab4fe26-e347-41d7-856c-e21bd236146f",
   "metadata": {},
   "source": [
    "$5, 10, 15$              **30**\n",
    "<br>\n",
    "$3, 6, 9, 12, 15, 18$    **63**"
   ]
  },
  {
   "cell_type": "code",
   "execution_count": 18,
   "id": "55df7af8-0448-49b6-830c-eac4f2de5fde",
   "metadata": {},
   "outputs": [
    {
     "data": {
      "text/plain": [
       "233168"
      ]
     },
     "execution_count": 18,
     "metadata": {},
     "output_type": "execute_result"
    }
   ],
   "source": [
    "sum([num for num in range(1000) if num % 3 == 0 or num % 5 == 0])"
   ]
  }
 ],
 "metadata": {
  "kernelspec": {
   "display_name": "Python 3 (ipykernel)",
   "language": "python",
   "name": "python3"
  },
  "language_info": {
   "codemirror_mode": {
    "name": "ipython",
    "version": 3
   },
   "file_extension": ".py",
   "mimetype": "text/x-python",
   "name": "python",
   "nbconvert_exporter": "python",
   "pygments_lexer": "ipython3",
   "version": "3.9.12"
  }
 },
 "nbformat": 4,
 "nbformat_minor": 5
}
