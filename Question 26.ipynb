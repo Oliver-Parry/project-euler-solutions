{
 "cells": [
  {
   "cell_type": "markdown",
   "id": "7a4c3000-19ac-48bb-b954-c525dada1d3f",
   "metadata": {},
   "source": [
    "____\n",
    "## Reciprocal cycles\n",
    "*[Question 26]*\n",
    "\n",
    "\n",
    "A unit fraction contains $1$ in the numerator. The decimal representation of the unit fractions with denominators $2$ to $10$ are given:\n",
    "\n",
    "> $1/2\t= \t0.5$\n",
    "<br>\n",
    "$1/3\t= \t0.(3)$\n",
    "<br>\n",
    "$1/4\t= \t0.25$\n",
    "<br>\n",
    "$1/5\t= \t0.2$\n",
    "<br>\n",
    "$1/6\t= \t0.1(6)$\n",
    "<br>\n",
    "$1/7\t= \t0.(142857)$\n",
    "<br>\n",
    "$1/8\t= \t0.125$\n",
    "<br>\n",
    "$1/9\t= \t0.(1)$\n",
    "<br>\n",
    "$1/10\t= \t0.1$\n",
    "\n",
    "Where $0.1(6)$ means $0.166666...$, and has a 1-digit recurring cycle. It can be seen that $1/7$ has a 6-digit recurring cycle.\n",
    "\n",
    "Find the value of $d < 1000$ for which $1/d$ contains the longest recurring cycle in its decimal fraction part.\n",
    "____"
   ]
  },
  {
   "cell_type": "markdown",
   "id": "3ad362dc-79e2-4ac7-853f-74215e032c71",
   "metadata": {},
   "source": [
    "**Working out:**\n",
    "<br>\n",
    "<img src=\"https://i.imgur.com/cmDCCrz.png\" width=\"400\" height=\"400\">\n",
    "\n",
    "Using long division, we can find the place where the decimal repeats itself by finding where $1 / n$ happens again.\n",
    "<br>\n",
    "The steps of long division are:\n",
    "- multiply dividend by $10$\n",
    "- find remainder of $(dividend * 10) / divisor$\n",
    "- make remainder the new dividend\n",
    "- repeat until pattern is found"
   ]
  },
  {
   "cell_type": "code",
   "execution_count": 61,
   "id": "4fc245a3-9e87-4220-ab28-66a29fa7c0b1",
   "metadata": {},
   "outputs": [
    {
     "data": {
      "text/plain": [
       "7"
      ]
     },
     "execution_count": 61,
     "metadata": {},
     "output_type": "execute_result"
    }
   ],
   "source": [
    "def compute_recurring_decimal_length(dividend, divisor):\n",
    "    count = 0\n",
    "    dividends = [dividend]\n",
    "    while dividend != 0:\n",
    "        count += 1\n",
    "        dividend = ((dividend * 10) % divisor)\n",
    "        if dividend in dividends:\n",
    "            break\n",
    "        dividends.append(dividend)\n",
    "    # print(dividends)\n",
    "    return count\n",
    "        \n",
    "compute_recurring_decimal_length(1, 14)"
   ]
  },
  {
   "cell_type": "code",
   "execution_count": 65,
   "id": "01bb2dde-5ddf-454c-ad1b-b922d4f18c49",
   "metadata": {
    "tags": []
   },
   "outputs": [
    {
     "data": {
      "text/plain": [
       "983"
      ]
     },
     "execution_count": 65,
     "metadata": {},
     "output_type": "execute_result"
    }
   ],
   "source": [
    "ans = [0, 0]\n",
    "for num in range(1, 1000):\n",
    "    length = compute_recurring_decimal_length(1, num)\n",
    "    if ans[1] < length:\n",
    "        ans = [num, length]\n",
    "ans[0]"
   ]
  }
 ],
 "metadata": {
  "kernelspec": {
   "display_name": "Python 3 (ipykernel)",
   "language": "python",
   "name": "python3"
  },
  "language_info": {
   "codemirror_mode": {
    "name": "ipython",
    "version": 3
   },
   "file_extension": ".py",
   "mimetype": "text/x-python",
   "name": "python",
   "nbconvert_exporter": "python",
   "pygments_lexer": "ipython3",
   "version": "3.9.12"
  }
 },
 "nbformat": 4,
 "nbformat_minor": 5
}
