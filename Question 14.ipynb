{
 "cells": [
  {
   "cell_type": "markdown",
   "id": "8218f44a-fe85-4f7c-b71a-319ff32cf579",
   "metadata": {},
   "source": [
    "____\n",
    "## Longest Collatz sequence\n",
    "*[Question 14]*\n",
    "\n",
    "\n",
    "The following iterative sequence is defined for the set of positive integers:\n",
    "\n",
    "> $n → n/2$ (n is even)\n",
    "<br>\n",
    "$n → 3n + 1$ (n is odd)\n",
    "\n",
    "Using the rule above and starting with $13$, we generate the following sequence:\n",
    "\n",
    "$13 → 40 → 20 → 10 → 5 → 16 → 8 → 4 → 2 → 1$\n",
    "<br>\n",
    "It can be seen that this sequence (starting at $13$ and finishing at $1$) contains $10$ terms. Although it has not been proved yet (Collatz Problem), it is thought that all starting numbers finish at $1$.\n",
    "\n",
    "Which starting number, under one million, produces the longest chain?\n",
    "\n",
    "NOTE: Once the chain starts the terms are allowed to go above one million.\n",
    "____"
   ]
  },
  {
   "cell_type": "code",
   "execution_count": 11,
   "id": "927a3074-3e3c-4794-ba80-5196efe61d27",
   "metadata": {
    "tags": []
   },
   "outputs": [
    {
     "data": {
      "text/plain": [
       "837799"
      ]
     },
     "execution_count": 11,
     "metadata": {},
     "output_type": "execute_result"
    }
   ],
   "source": [
    "ans = [1, 0]\n",
    "for num in range(1, 10**6):\n",
    "    chain = [num]\n",
    "    while num != 1:\n",
    "        if num % 2 == 0:\n",
    "            num /= 2\n",
    "        else:\n",
    "            num = 3 * num + 1\n",
    "        chain.append(int(num))\n",
    "    if len(ans) < len(chain):\n",
    "        ans = chain\n",
    "ans[0]"
   ]
  }
 ],
 "metadata": {
  "kernelspec": {
   "display_name": "Python 3 (ipykernel)",
   "language": "python",
   "name": "python3"
  },
  "language_info": {
   "codemirror_mode": {
    "name": "ipython",
    "version": 3
   },
   "file_extension": ".py",
   "mimetype": "text/x-python",
   "name": "python",
   "nbconvert_exporter": "python",
   "pygments_lexer": "ipython3",
   "version": "3.9.12"
  }
 },
 "nbformat": 4,
 "nbformat_minor": 5
}
